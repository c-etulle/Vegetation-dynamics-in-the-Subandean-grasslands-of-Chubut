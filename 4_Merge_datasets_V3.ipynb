{
  "nbformat": 4,
  "nbformat_minor": 0,
  "metadata": {
    "colab": {
      "provenance": [],
      "toc_visible": true,
      "authorship_tag": "ABX9TyPMzTsE7ysfxb0EO44Tn2bA",
      "include_colab_link": true
    },
    "kernelspec": {
      "name": "python3",
      "display_name": "Python 3"
    },
    "language_info": {
      "name": "python"
    }
  },
  "cells": [
    {
      "cell_type": "markdown",
      "metadata": {
        "id": "view-in-github",
        "colab_type": "text"
      },
      "source": [
        "<a href=\"https://colab.research.google.com/github/c-etulle/Vegetation-dynamics-in-the-Subandean-grasslands-of-Chubut/blob/main/4_Merge_datasets_V3.ipynb\" target=\"_parent\"><img src=\"https://colab.research.google.com/assets/colab-badge.svg\" alt=\"Open In Colab\"/></a>"
      ]
    },
    {
      "cell_type": "markdown",
      "source": [
        "For merging SPEI, NDVI, MODIS and the clusters."
      ],
      "metadata": {
        "id": "JHX3ptc_TAhH"
      }
    },
    {
      "cell_type": "markdown",
      "source": [
        "# Packages"
      ],
      "metadata": {
        "id": "fGYh355sTP9-"
      }
    },
    {
      "cell_type": "code",
      "execution_count": null,
      "metadata": {
        "colab": {
          "base_uri": "https://localhost:8080/"
        },
        "id": "-GlBw-ClS8Hg",
        "outputId": "01eabbdb-9e40-4fc0-acad-efc36291ec46"
      },
      "outputs": [
        {
          "output_type": "stream",
          "name": "stdout",
          "text": [
            "Collecting unidecode\n",
            "  Downloading Unidecode-1.3.8-py3-none-any.whl.metadata (13 kB)\n",
            "Downloading Unidecode-1.3.8-py3-none-any.whl (235 kB)\n",
            "\u001b[?25l   \u001b[90m━━━━━━━━━━━━━━━━━━━━━━━━━━━━━━━━━━━━━━━━\u001b[0m \u001b[32m0.0/235.5 kB\u001b[0m \u001b[31m?\u001b[0m eta \u001b[36m-:--:--\u001b[0m\r\u001b[2K   \u001b[91m━━━━━━━━━━━━━━━━━━━━━━━━━━━━━━━\u001b[0m\u001b[90m╺\u001b[0m\u001b[90m━━━━━━━━\u001b[0m \u001b[32m184.3/235.5 kB\u001b[0m \u001b[31m4.7 MB/s\u001b[0m eta \u001b[36m0:00:01\u001b[0m\r\u001b[2K   \u001b[90m━━━━━━━━━━━━━━━━━━━━━━━━━━━━━━━━━━━━━━━━\u001b[0m \u001b[32m235.5/235.5 kB\u001b[0m \u001b[31m3.2 MB/s\u001b[0m eta \u001b[36m0:00:00\u001b[0m\n",
            "\u001b[?25hInstalling collected packages: unidecode\n",
            "Successfully installed unidecode-1.3.8\n"
          ]
        }
      ],
      "source": [
        "#!pip install rasterio\n",
        "%pip install unidecode\n",
        "\n",
        "import os, sys\n",
        "from google.colab import drive\n",
        "import glob\n",
        "import numpy as np\n",
        "import pandas as pd\n",
        "from scipy import stats\n",
        "import matplotlib.pyplot as plt\n",
        "from unidecode import unidecode\n",
        "import re\n",
        "from datetime import datetime\n"
      ]
    },
    {
      "cell_type": "code",
      "source": [
        "drive.mount('/content/drive')\n",
        "%cd /content/drive/My\\ Drive/ee-meinzinger-patagonia/Data"
      ],
      "metadata": {
        "colab": {
          "base_uri": "https://localhost:8080/"
        },
        "id": "6BgKqSYQUjux",
        "outputId": "5b9803de-602e-444a-ab3c-23f765ffe32d"
      },
      "execution_count": null,
      "outputs": [
        {
          "output_type": "stream",
          "name": "stdout",
          "text": [
            "Mounted at /content/drive\n",
            "/content/drive/My Drive/ee-meinzinger-patagonia/Data\n"
          ]
        }
      ]
    },
    {
      "cell_type": "markdown",
      "source": [
        "# Define faulty SPEI-locations"
      ],
      "metadata": {
        "id": "mQm2aoNRYXwt"
      }
    },
    {
      "cell_type": "code",
      "source": [
        "# Create a list of faulty SPEI locations\n",
        "faulty_locations = [\n",
        "    \"Cerro Condor\",\n",
        "    \"La Clara\",\n",
        "    \"Berna\",\n",
        "    \"Bahia Cracker\",\n",
        "    \"Valdes Creek Secc La Adela\",\n",
        "    \"La Esperanza Biedma\"\n",
        "]"
      ],
      "metadata": {
        "id": "csBKrbjdYX5H"
      },
      "execution_count": null,
      "outputs": []
    },
    {
      "cell_type": "markdown",
      "source": [
        "# Import Landsat and MODIS"
      ],
      "metadata": {
        "id": "J_sN3wQILgWN"
      }
    },
    {
      "cell_type": "markdown",
      "source": [
        "## a) Landsat - import as \"combined_df\"\n",
        "\n",
        "Read all csv-files (for different site names) and combine into one data frame"
      ],
      "metadata": {
        "id": "ZlaSeSyUe1BZ"
      }
    },
    {
      "cell_type": "code",
      "source": [
        "# find all the files that end with '_NDVI.csv'\n",
        "path = \"landsat-2000-2024\"\n",
        "\n",
        "csv_files = glob.glob(os.path.join(path, '*_NDVI.csv'))\n",
        "\n",
        "print(csv_files)"
      ],
      "metadata": {
        "id": "F9xnMsaKHEcJ",
        "colab": {
          "base_uri": "https://localhost:8080/"
        },
        "outputId": "496d0ca6-6cc2-4900-f555-f1e3c8b4b410"
      },
      "execution_count": null,
      "outputs": [
        {
          "output_type": "stream",
          "name": "stdout",
          "text": [
            "['landsat-2000-2024/La Ana_NDVI.csv', 'landsat-2000-2024/CERM_NDVI.csv', 'landsat-2000-2024/Alto Rio Mayo_NDVI.csv', 'landsat-2000-2024/1 San Felipe_NDVI.csv', 'landsat-2000-2024/Cerro Condor_NDVI.csv', 'landsat-2000-2024/2 San Felipe_NDVI.csv', 'landsat-2000-2024/La Isabel_NDVI.csv', 'landsat-2000-2024/La Clara_NDVI.csv', 'landsat-2000-2024/Berna_NDVI.csv', 'landsat-2000-2024/Las Piedritas_NDVI.csv', 'landsat-2000-2024/Bahia Cracker_NDVI.csv', 'landsat-2000-2024/San Sebastian_NDVI.csv', 'landsat-2000-2024/Bella Vista_NDVI.csv', 'landsat-2000-2024/La Regina_NDVI.csv', 'landsat-2000-2024/La Payanca_NDVI.csv', 'landsat-2000-2024/Los 5 Hermanos_NDVI.csv', 'landsat-2000-2024/Cerco de Piedras_NDVI.csv', 'landsat-2000-2024/Chacra Berwyn_NDVI.csv', 'landsat-2000-2024/El Moro_NDVI.csv', 'landsat-2000-2024/1 San Jose_NDVI.csv', 'landsat-2000-2024/Don Julian_NDVI.csv', 'landsat-2000-2024/2 San Jose_NDVI.csv', 'landsat-2000-2024/La Portena_NDVI.csv', 'landsat-2000-2024/La Juanita_NDVI.csv', 'landsat-2000-2024/El Castillo_NDVI.csv', 'landsat-2000-2024/El Rosillo_NDVI.csv', 'landsat-2000-2024/Cerro Toro_NDVI.csv', 'landsat-2000-2024/La Maria_NDVI.csv', 'landsat-2000-2024/El Pajarito_NDVI.csv', 'landsat-2000-2024/El Mollar_NDVI.csv', 'landsat-2000-2024/La Travesia_NDVI.csv', 'landsat-2000-2024/Valdes Creek Secc La Adela_NDVI.csv', 'landsat-2000-2024/Valdes Creek Secc. El Piquillin_NDVI.csv', 'landsat-2000-2024/La Concepcion_NDVI.csv', 'landsat-2000-2024/La Esperanza Biedma_NDVI.csv', 'landsat-2000-2024/El Porvenir_NDVI.csv', 'landsat-2000-2024/La Lonja_NDVI.csv', 'landsat-2000-2024/El Pato_NDVI.csv', 'landsat-2000-2024/La Veneta_NDVI.csv', 'landsat-2000-2024/La Sonia_NDVI.csv', 'landsat-2000-2024/El Oasis_NDVI.csv', 'landsat-2000-2024/Aguada Amarga_NDVI.csv', 'landsat-2000-2024/El Riscoso_NDVI.csv', 'landsat-2000-2024/El Bosque_NDVI.csv', 'landsat-2000-2024/La Esperanza Rio Senguer_NDVI.csv', 'landsat-2000-2024/1 Rio Guenguel_NDVI.csv', 'landsat-2000-2024/El Bajo_NDVI.csv', 'landsat-2000-2024/Los Uncos_NDVI.csv', 'landsat-2000-2024/2 Rio Guenguel_NDVI.csv', 'landsat-2000-2024/La Buena Suerte_NDVI.csv', 'landsat-2000-2024/Manantiales Behr_NDVI.csv', 'landsat-2000-2024/Numancia_NDVI.csv', 'landsat-2000-2024/Arroyo Chalia_NDVI.csv', 'landsat-2000-2024/Canadon Blanco_NDVI.csv', 'landsat-2000-2024/Chali Aike_NDVI.csv', 'landsat-2000-2024/La Cancha_NDVI.csv', 'landsat-2000-2024/El Maiten_NDVI.csv', 'landsat-2000-2024/Tureo_NDVI.csv', 'landsat-2000-2024/Seis Hermanos_NDVI.csv', 'landsat-2000-2024/Yague_NDVI.csv', 'landsat-2000-2024/La Anita_NDVI.csv', 'landsat-2000-2024/Gonzalez_NDVI.csv', 'landsat-2000-2024/El Guri_NDVI.csv', 'landsat-2000-2024/Los Tanos_NDVI.csv', 'landsat-2000-2024/Los Luises_NDVI.csv', 'landsat-2000-2024/Los Guindos_NDVI.csv', 'landsat-2000-2024/El Solito_NDVI.csv', 'landsat-2000-2024/La Querencia_NDVI.csv', 'landsat-2000-2024/Arabia Saudita_NDVI.csv', 'landsat-2000-2024/El Zaino_NDVI.csv', 'landsat-2000-2024/Maria Edith_NDVI.csv', 'landsat-2000-2024/La Paulina y Avelino_NDVI.csv', 'landsat-2000-2024/Quichaura_NDVI.csv', 'landsat-2000-2024/Rancho Grande_NDVI.csv', 'landsat-2000-2024/La Paulina_NDVI.csv', 'landsat-2000-2024/Mallin Nevado_NDVI.csv', 'landsat-2000-2024/Laguna del Toro_NDVI.csv', 'landsat-2000-2024/Don Carlos Invernada_NDVI.csv', 'landsat-2000-2024/Durruti_NDVI.csv', 'landsat-2000-2024/Don Carlos Veranada_NDVI.csv', 'landsat-2000-2024/Malal Hue_NDVI.csv', 'landsat-2000-2024/Laurita_NDVI.csv', 'landsat-2000-2024/Los Pinos_NDVI.csv', 'landsat-2000-2024/Lago Vintter_NDVI.csv', 'landsat-2000-2024/Ea Juan Roman_NDVI.csv', 'landsat-2000-2024/La Aurora_NDVI.csv', 'landsat-2000-2024/Laguna Blanca_NDVI.csv', 'landsat-2000-2024/Las Buitreras_NDVI.csv', 'landsat-2000-2024/Calcatapul_NDVI.csv', 'landsat-2000-2024/El Camaruco S.R.L_NDVI.csv', 'landsat-2000-2024/JR y El Cruce_NDVI.csv', 'landsat-2000-2024/Don Silveiro_NDVI.csv', 'landsat-2000-2024/Don Pablo_NDVI.csv', 'landsat-2000-2024/Entre Sierras_NDVI.csv', 'landsat-2000-2024/La Cumbre_NDVI.csv', 'landsat-2000-2024/Telleriarte_NDVI.csv', 'landsat-2000-2024/Arregui_NDVI.csv', 'landsat-2000-2024/Nueva Lubecka_NDVI.csv', 'landsat-2000-2024/LAS MERCEDES_NDVI.csv', 'landsat-2000-2024/El Poyo_NDVI.csv', 'landsat-2000-2024/El Saucal_NDVI.csv', 'landsat-2000-2024/Lino_NDVI.csv', 'landsat-2000-2024/Media Luna_NDVI.csv']\n"
          ]
        }
      ]
    },
    {
      "cell_type": "code",
      "source": [
        "# Make a placeholder-list\n",
        "df_list = []\n",
        "\n",
        "# Loop through the list of csv-files and read them into dfs\n",
        "for file in csv_files:\n",
        "  df = pd.read_csv(file)\n",
        "  df['Site_Name'] = file # make a new column in the individual df\n",
        "  df_list.append(df) # indivial dfs are getting \"added together\"\n",
        "\n",
        "# Concatenate all dfs into a single df\n",
        "landsat_df = pd.concat(df_list, ignore_index=True)\n",
        "\n",
        "# Remove random column called .geo\n",
        "landsat_df = landsat_df.drop('.geo', axis=1)\n",
        "\n",
        "# Remove Site_Name, since it is the same in all of them\n",
        "landsat_df['Site_Name'] = landsat_df['Site_Name'].str.replace(\"_NDVI.csv\", '', regex=False)\n",
        "\n",
        "# Remove prefix, since it is the same in all of them\n",
        "landsat_df['Site_Name'] = landsat_df['Site_Name'].str.replace(\"landsat-2000-2024/\", '', regex=False)\n",
        "\n",
        "# Re-scale NDVI-values\n",
        "landsat_df['NDVI'] = landsat_df['NDVI']/10000\n",
        "\n",
        "# Define month & year as int\n",
        "landsat_df['year'] = landsat_df['year'].astype(int)\n",
        "landsat_df['month'] = landsat_df['month'].astype(int)\n",
        "\n",
        "# Adds a column called year_month\n",
        "landsat_df['year_month'] = landsat_df['year'].astype(str) + '_' + landsat_df['month'].apply(lambda x: f\"{x:02d}\") #puts a 0 in front of all the months until september\n",
        "\n",
        "# Rename NDVI column\n",
        "landsat_df = landsat_df.rename(columns={'NDVI': 'NDVI_Landsat'})\n",
        "\n",
        "# Remove the 'system:index' column\n",
        "landsat_df = landsat_df.drop('system:index', axis=1)\n",
        "\n",
        "# Remove rows where 'Site_Name' is in Faulty_locations\n",
        "landsat_df = landsat_df[~landsat_df['Site_Name'].isin(faulty_locations)]\n",
        "\n",
        "# Remove blank spaces\n",
        "landsat_df['Site_Name'] = landsat_df['Site_Name'].str.rstrip()\n",
        "\n",
        "# Number of sites\n",
        "len(landsat_df[\"Site_Name\"].unique())"
      ],
      "metadata": {
        "colab": {
          "base_uri": "https://localhost:8080/"
        },
        "id": "db_xWaZmHaxk",
        "outputId": "d86f7aa7-f1a7-46bf-9446-918373e1b2f5"
      },
      "execution_count": null,
      "outputs": [
        {
          "output_type": "execute_result",
          "data": {
            "text/plain": [
              "97"
            ]
          },
          "metadata": {},
          "execution_count": 5
        }
      ]
    },
    {
      "cell_type": "code",
      "source": [
        "print(landsat_df.head())\n",
        "\n",
        "print(\"dimensions: \" + str(landsat_df.shape))"
      ],
      "metadata": {
        "colab": {
          "base_uri": "https://localhost:8080/"
        },
        "id": "bQQoMUJewgAs",
        "outputId": "c7a69953-5a58-4c0b-8ec2-07b7b379e0bb"
      },
      "execution_count": null,
      "outputs": [
        {
          "output_type": "stream",
          "name": "stdout",
          "text": [
            "   NDVI_Landsat  month  year Site_Name year_month\n",
            "0        0.0692      1  2000    La Ana    2000_01\n",
            "1        0.0552      2  2000    La Ana    2000_02\n",
            "2        0.0491      3  2000    La Ana    2000_03\n",
            "3        0.0460      4  2000    La Ana    2000_04\n",
            "4        0.0215      5  2000    La Ana    2000_05\n",
            "dimensions: (29100, 5)\n"
          ]
        }
      ]
    },
    {
      "cell_type": "markdown",
      "source": [
        "## b) MODIS - import as \"combined_df_modis\""
      ],
      "metadata": {
        "id": "LswaB2nbfMV_"
      }
    },
    {
      "cell_type": "code",
      "source": [
        "path_modis = \"modis-2000-2024\"\n",
        "\n",
        "# find all the files that end with '_NDVI.csv'\n",
        "csv_files_modis = glob.glob(os.path.join(path_modis, '*_NDVI.csv'))\n",
        "\n",
        "## Read all csv-files and combine them into one df\n",
        "\n",
        "# Make a placeholder-list\n",
        "df_list_modis = []\n",
        "\n",
        "# Loop through the list of csv-files and read them into dfs\n",
        "for file in csv_files_modis:\n",
        "  df = pd.read_csv(file)\n",
        "  df['Site_Name'] = file # make a new column in the individual df\n",
        "  df_list_modis.append(df) # indivial dfs are getting \"added together\"\n",
        "\n",
        "# Concatenate all dfs into a single df\n",
        "modis_df = pd.concat(df_list_modis, ignore_index=True)\n",
        "\n",
        "# Remove random column called .geo\n",
        "modis_df = modis_df.drop('.geo', axis=1)\n",
        "\n",
        "# Remove suffix, since it is the same in all of them\n",
        "modis_df['Site_Name'] = modis_df['Site_Name'].str.replace(\"_NDVI.csv\", '', regex=False)\n",
        "\n",
        "# Remove prefix, since it is the same in all of them\n",
        "modis_df['Site_Name'] = modis_df['Site_Name'].str.replace(\"modis-2000-2024/\", '', regex=False)\n",
        "\n",
        "# Re-scale NDVI-values\n",
        "modis_df['NDVI'] = modis_df['NDVI']/10000\n",
        "\n",
        "# Define month & year as int\n",
        "modis_df['year'] = modis_df['year'].astype(int)\n",
        "modis_df['month'] = modis_df['month'].astype(int)\n",
        "\n",
        "# Adds a column called year_month\n",
        "modis_df['year_month'] = modis_df['year'].astype(str) + '_' + modis_df['month'].apply(lambda x: f\"{x:02d}\") #puts a 0 in front of all the months until september\n",
        "\n",
        "# Remove the 'system:index' column\n",
        "modis_df = modis_df.drop('system:index', axis=1)\n",
        "\n",
        "# Rename NDVI column\n",
        "modis_df = modis_df.rename(columns={'NDVI': 'NDVI_MODIS'})\n",
        "\n",
        "# Remove rows where 'Site_Name' is in Faulty_locations\n",
        "modis_df = modis_df[~modis_df['Site_Name'].isin(faulty_locations)]\n",
        "\n",
        "# Remove blank spaces\n",
        "modis_df['Site_Name'] = modis_df['Site_Name'].str.rstrip()\n",
        "\n",
        "# Number of sites\n",
        "len(modis_df[\"Site_Name\"].unique())"
      ],
      "metadata": {
        "colab": {
          "base_uri": "https://localhost:8080/"
        },
        "id": "ejJfBszyfkSL",
        "outputId": "1b2eae68-a31a-4c54-e560-9cc065a9a1c4"
      },
      "execution_count": null,
      "outputs": [
        {
          "output_type": "execute_result",
          "data": {
            "text/plain": [
              "97"
            ]
          },
          "metadata": {},
          "execution_count": 7
        }
      ]
    },
    {
      "cell_type": "code",
      "source": [
        "print(modis_df.head())\n",
        "\n",
        "print(\"dimensions: \" + str(modis_df.shape))"
      ],
      "metadata": {
        "colab": {
          "base_uri": "https://localhost:8080/"
        },
        "id": "gBDBUSq4w4lE",
        "outputId": "b5c699e7-3716-4549-bbd3-fc45c4641df0"
      },
      "execution_count": null,
      "outputs": [
        {
          "output_type": "stream",
          "name": "stdout",
          "text": [
            "   NDVI_MODIS  month  year Site_Name year_month\n",
            "0         NaN      1  2000      CERM    2000_01\n",
            "1     0.15530      2  2000      CERM    2000_02\n",
            "2     0.15225      3  2000      CERM    2000_03\n",
            "3     0.15715      4  2000      CERM    2000_04\n",
            "4     0.15955      5  2000      CERM    2000_05\n",
            "dimensions: (29100, 5)\n"
          ]
        }
      ]
    },
    {
      "cell_type": "markdown",
      "source": [
        "## c) Import SPEI-data\n",
        "\n",
        "\n"
      ],
      "metadata": {
        "id": "IP42BrRcV15v"
      }
    },
    {
      "cell_type": "code",
      "source": [
        "# Import spei.csv files\n",
        "file_path = '../pts_drought.csv'\n",
        "spei_data = pd.read_csv(file_path)\n",
        "\n",
        "## Restructuring the df\n",
        "\n",
        "# Function to transform the column names, so instead of \"YYYYMM\", you get \"YYYY_MM\"\n",
        "def transform_column_name(col_name):\n",
        "    if col_name.isdigit() and len(col_name) == 6:\n",
        "        return col_name[:4] + \"_\" + col_name[4:]\n",
        "    return col_name\n",
        "\n",
        "# Apply the transformation to the columns\n",
        "spei_data.columns = [transform_column_name(col) for col in spei_data.columns]\n",
        "\n",
        "# Set 'Site_Name' as the index and then transpose the DataFrame\n",
        "spei_data = spei_data.set_index('Site_Name').transpose()\n",
        "\n",
        "# Function to clean site names: remove (, ), and °, and normalize special characters\n",
        "def clean_site_name(site_name):\n",
        "    # Remove (, ), and °\n",
        "    site_name = re.sub(r'[()°]', '', site_name)\n",
        "    # Convert special characters to their closest ASCII equivalents\n",
        "    site_name = unidecode(site_name)\n",
        "    return site_name\n",
        "\n",
        "# Apply the cleaning function to the column names\n",
        "spei_data.columns = [clean_site_name(col) for col in spei_data.columns]\n",
        "\n",
        "# Remove duplicates (San Felipe & San José)\n",
        "# spei_data = spei_data.loc[:, ~spei_data.columns.duplicated()]\n",
        "# spei_data.head(12)\n",
        "\n",
        "# Remove faulty locations\n",
        "spei_data = spei_data.drop(columns=faulty_locations)\n",
        "\n",
        "SPEI_df_reset = spei_data.reset_index().rename(columns={'index': 'year_month'})\n",
        "\n",
        "SPEI_long = pd.melt(SPEI_df_reset, id_vars=['year_month'], var_name='Site_Name', value_name='SPEI')\n",
        "\n",
        "\n",
        "# Split 'year_month' into 'year' and 'month'\n",
        "SPEI_long[['year', 'month']] = SPEI_long['year_month'].str.split('_', expand=True)\n",
        "\n",
        "# Convert 'year' and 'month' to integers (if necessary)\n",
        "SPEI_long['year'] = SPEI_long['year'].astype(int)\n",
        "SPEI_long['month'] = SPEI_long['month'].astype(int)\n",
        "\n",
        "# Remove blank spaces\n",
        "SPEI_long['Site_Name'] = SPEI_long['Site_Name'].str.rstrip()\n",
        "\n",
        "len(SPEI_long[\"Site_Name\"].unique())\n"
      ],
      "metadata": {
        "colab": {
          "base_uri": "https://localhost:8080/"
        },
        "id": "NYyDfZoOV2A9",
        "outputId": "78cd807e-b0ff-4e18-953b-efcdf82a9413"
      },
      "execution_count": null,
      "outputs": [
        {
          "output_type": "execute_result",
          "data": {
            "text/plain": [
              "97"
            ]
          },
          "metadata": {},
          "execution_count": 9
        }
      ]
    },
    {
      "cell_type": "code",
      "source": [
        "print(SPEI_long.head())\n",
        "\n",
        "print(\"dimensions: \" + str(SPEI_long.shape))"
      ],
      "metadata": {
        "colab": {
          "base_uri": "https://localhost:8080/"
        },
        "id": "PaLdj7eaxdck",
        "outputId": "3625cabd-1142-4160-cd63-24b55a84cb23"
      },
      "execution_count": null,
      "outputs": [
        {
          "output_type": "stream",
          "name": "stdout",
          "text": [
            "  year_month Site_Name      SPEI  year  month\n",
            "0    2000_01      CERM -0.813071  2000      1\n",
            "1    2000_02      CERM -0.531295  2000      2\n",
            "2    2000_03      CERM -0.411697  2000      3\n",
            "3    2000_04      CERM  0.126315  2000      4\n",
            "4    2000_05      CERM  0.385927  2000      5\n",
            "dimensions: (26772, 5)\n"
          ]
        }
      ]
    },
    {
      "cell_type": "markdown",
      "source": [
        "## d) Import MARAS data"
      ],
      "metadata": {
        "id": "KR1-vwKCVH8f"
      }
    },
    {
      "cell_type": "code",
      "source": [
        "# Load the CSV file into a DataFrame\n",
        "maras_chubut = pd.read_csv('MARAS_Chubut_utf8.csv', sep=';')\n",
        "\n",
        "# Convert the 'Date' column to datetime format\n",
        "maras_chubut['Date'] = pd.to_datetime(maras_chubut['Date'], format='%d-%m-%Y')\n",
        "\n",
        "# Create the 'year_month' column in the format YYYY_MM\n",
        "maras_chubut['year_month'] = maras_chubut['Date'].dt.strftime('%Y_%m')\n",
        "\n",
        "# Remove (, ), and ° using re.sub with apply\n",
        "maras_chubut[\"Site_Name\"] = maras_chubut[\"Site_Name\"].apply(lambda x: re.sub(r'[()°]', '', x))\n",
        "\n",
        "# Convert special characters to their closest ASCII equivalents\n",
        "maras_chubut[\"Site_Name\"] = maras_chubut[\"Site_Name\"].apply(unidecode)\n",
        "\n",
        "# Remove rows where 'Site_Name' is in Faulty_locations\n",
        "maras_chubut = maras_chubut[~maras_chubut['Site_Name'].isin(faulty_locations)]\n",
        "\n",
        "# Split 'year_month' into 'year' and 'month'\n",
        "maras_chubut[['year', 'month']] = maras_chubut['year_month'].str.split('_', expand=True)\n",
        "\n",
        "# Convert 'year' and 'month' to integers (if necessary)\n",
        "maras_chubut['year'] = maras_chubut['year'].astype(int)\n",
        "maras_chubut['month'] = maras_chubut['month'].astype(int)\n",
        "\n",
        "# Remove blank spaces\n",
        "maras_chubut['Site_Name'] = maras_chubut['Site_Name'].str.rstrip()\n",
        "maras_chubut['Biozone'] = maras_chubut['Biozone'].str.rstrip()\n",
        "\n",
        "# Number of sites\n",
        "len(maras_chubut[\"Site_Name\"].unique())"
      ],
      "metadata": {
        "colab": {
          "base_uri": "https://localhost:8080/"
        },
        "id": "K1Y-JFsWVHGE",
        "outputId": "9ff6282b-993a-44f2-c311-154b099c2dbf"
      },
      "execution_count": null,
      "outputs": [
        {
          "output_type": "execute_result",
          "data": {
            "text/plain": [
              "97"
            ]
          },
          "metadata": {},
          "execution_count": 11
        }
      ]
    },
    {
      "cell_type": "code",
      "source": [
        "print(maras_chubut.head())\n",
        "\n",
        "print(\"dimensions: \" + str(maras_chubut.shape))"
      ],
      "metadata": {
        "colab": {
          "base_uri": "https://localhost:8080/"
        },
        "id": "6RHy8iwRxpJZ",
        "outputId": "68a2afca-1e42-46e2-b9f4-991ef5b52f33"
      },
      "execution_count": null,
      "outputs": [
        {
          "output_type": "stream",
          "name": "stdout",
          "text": [
            "     Country Province Site_Name       ID  DB_code  Lectura       Date  \\\n",
            "0  Argentina   Chubut      CERM  #CH-001      301        1 2008-06-18   \n",
            "1  Argentina   Chubut      CERM  #CH-001      301        2 2014-01-21   \n",
            "2  Argentina   Chubut      CERM  #CH-001      301        3 2018-12-14   \n",
            "3  Argentina   Chubut    La Ana  #CH-002      302        1 2009-04-21   \n",
            "4  Argentina   Chubut    La Ana  #CH-002      302        2 2014-01-24   \n",
            "\n",
            "     Latitude   Longitude  Altitude  ... InterP_pH  InterP_OC InterP_N  \\\n",
            "0  -45,440611  -70,300306       543  ...        NaN       NaN      NaN   \n",
            "1  -45,440611  -70,300306       543  ...        6,9      0,53     0,04   \n",
            "2  -45,440611  -70,300306       543  ...        6,7      0,19     0,05   \n",
            "3   -45,42675  -70,267778       535  ...        NaN       NaN      NaN   \n",
            "4   -45,42675  -70,267778       535  ...        6,9       0,7     0,05   \n",
            "\n",
            "  InterP_OM InterP_Clay InterP_Silt  InterP_Sand year_month  year month  \n",
            "0       NaN         NaN         NaN          NaN    2008_06  2008     6  \n",
            "1      0,91         NaN         NaN          NaN    2014_01  2014     1  \n",
            "2      0,32           2          10           88    2018_12  2018    12  \n",
            "3       NaN         NaN         NaN          NaN    2009_04  2009     4  \n",
            "4       1,2         NaN         NaN          NaN    2014_01  2014     1  \n",
            "\n",
            "[5 rows x 55 columns]\n",
            "dimensions: (244, 55)\n"
          ]
        }
      ]
    },
    {
      "cell_type": "markdown",
      "source": [
        "## e) Make the biozone data frame\n",
        "\n",
        "To have the Biozone in the beginning of the data frame"
      ],
      "metadata": {
        "id": "3e74xuX1mwAq"
      }
    },
    {
      "cell_type": "code",
      "source": [
        "Biozones = maras_chubut[[\"Site_Name\", \"Biozone\"]].drop_duplicates()"
      ],
      "metadata": {
        "id": "AdbvrtKYmwJE"
      },
      "execution_count": null,
      "outputs": []
    },
    {
      "cell_type": "markdown",
      "source": [
        "# Merge all"
      ],
      "metadata": {
        "id": "V9oL5VJ1aYaL"
      }
    },
    {
      "cell_type": "code",
      "source": [
        "all_data = landsat_df.\\\n",
        "merge(modis_df, on = [\"Site_Name\", \"year_month\", \"month\", \"year\"], how = \"outer\").\\\n",
        "merge(SPEI_long, on = [\"Site_Name\", \"year_month\", \"month\", \"year\"], how = \"outer\").\\\n",
        "merge(maras_chubut.drop('Biozone', axis=1), on = [\"Site_Name\", \"year_month\", \"month\", \"year\"], how = \"outer\").\\\n",
        "merge(Biozones, on = [\"Site_Name\"], how = \"outer\")"
      ],
      "metadata": {
        "id": "dZTBgA5HX9Xt"
      },
      "execution_count": null,
      "outputs": []
    },
    {
      "cell_type": "code",
      "source": [
        "all_data.head()"
      ],
      "metadata": {
        "colab": {
          "base_uri": "https://localhost:8080/",
          "height": 429
        },
        "id": "zj8S5ThugCIw",
        "outputId": "aa3b6acc-ce70-4b66-d6de-7a4fbc35529b"
      },
      "execution_count": null,
      "outputs": [
        {
          "output_type": "execute_result",
          "data": {
            "text/plain": [
              "   NDVI_Landsat  month  year       Site_Name year_month  NDVI_MODIS      SPEI  \\\n",
              "0       0.04255      1  2000  1 Rio Guenguel    2000_01         NaN -1.202183   \n",
              "1       0.04015      2  2000  1 Rio Guenguel    2000_02     0.14080 -0.862369   \n",
              "2       0.03890      3  2000  1 Rio Guenguel    2000_03     0.13175 -0.742418   \n",
              "3       0.04640      4  2000  1 Rio Guenguel    2000_04     0.14920 -0.189822   \n",
              "4           NaN      5  2000  1 Rio Guenguel    2000_05     0.13650 -0.093864   \n",
              "\n",
              "  Country Province   ID  ...  Patch_Sand  InterP_Con InterP_pH  InterP_OC  \\\n",
              "0     NaN      NaN  NaN  ...         NaN         NaN        NaN       NaN   \n",
              "1     NaN      NaN  NaN  ...         NaN         NaN        NaN       NaN   \n",
              "2     NaN      NaN  NaN  ...         NaN         NaN        NaN       NaN   \n",
              "3     NaN      NaN  NaN  ...         NaN         NaN        NaN       NaN   \n",
              "4     NaN      NaN  NaN  ...         NaN         NaN        NaN       NaN   \n",
              "\n",
              "  InterP_N  InterP_OM InterP_Clay InterP_Silt InterP_Sand  \\\n",
              "0      NaN        NaN         NaN         NaN         NaN   \n",
              "1      NaN        NaN         NaN         NaN         NaN   \n",
              "2      NaN        NaN         NaN         NaN         NaN   \n",
              "3      NaN        NaN         NaN         NaN         NaN   \n",
              "4      NaN        NaN         NaN         NaN         NaN   \n",
              "\n",
              "                    Biozone  \n",
              "0  West Plateaus Shrublands  \n",
              "1  West Plateaus Shrublands  \n",
              "2  West Plateaus Shrublands  \n",
              "3  West Plateaus Shrublands  \n",
              "4  West Plateaus Shrublands  \n",
              "\n",
              "[5 rows x 58 columns]"
            ],
            "text/html": [
              "\n",
              "  <div id=\"df-79fb6ed1-edb7-4ee4-ad64-17516c72a3dd\" class=\"colab-df-container\">\n",
              "    <div>\n",
              "<style scoped>\n",
              "    .dataframe tbody tr th:only-of-type {\n",
              "        vertical-align: middle;\n",
              "    }\n",
              "\n",
              "    .dataframe tbody tr th {\n",
              "        vertical-align: top;\n",
              "    }\n",
              "\n",
              "    .dataframe thead th {\n",
              "        text-align: right;\n",
              "    }\n",
              "</style>\n",
              "<table border=\"1\" class=\"dataframe\">\n",
              "  <thead>\n",
              "    <tr style=\"text-align: right;\">\n",
              "      <th></th>\n",
              "      <th>NDVI_Landsat</th>\n",
              "      <th>month</th>\n",
              "      <th>year</th>\n",
              "      <th>Site_Name</th>\n",
              "      <th>year_month</th>\n",
              "      <th>NDVI_MODIS</th>\n",
              "      <th>SPEI</th>\n",
              "      <th>Country</th>\n",
              "      <th>Province</th>\n",
              "      <th>ID</th>\n",
              "      <th>...</th>\n",
              "      <th>Patch_Sand</th>\n",
              "      <th>InterP_Con</th>\n",
              "      <th>InterP_pH</th>\n",
              "      <th>InterP_OC</th>\n",
              "      <th>InterP_N</th>\n",
              "      <th>InterP_OM</th>\n",
              "      <th>InterP_Clay</th>\n",
              "      <th>InterP_Silt</th>\n",
              "      <th>InterP_Sand</th>\n",
              "      <th>Biozone</th>\n",
              "    </tr>\n",
              "  </thead>\n",
              "  <tbody>\n",
              "    <tr>\n",
              "      <th>0</th>\n",
              "      <td>0.04255</td>\n",
              "      <td>1</td>\n",
              "      <td>2000</td>\n",
              "      <td>1 Rio Guenguel</td>\n",
              "      <td>2000_01</td>\n",
              "      <td>NaN</td>\n",
              "      <td>-1.202183</td>\n",
              "      <td>NaN</td>\n",
              "      <td>NaN</td>\n",
              "      <td>NaN</td>\n",
              "      <td>...</td>\n",
              "      <td>NaN</td>\n",
              "      <td>NaN</td>\n",
              "      <td>NaN</td>\n",
              "      <td>NaN</td>\n",
              "      <td>NaN</td>\n",
              "      <td>NaN</td>\n",
              "      <td>NaN</td>\n",
              "      <td>NaN</td>\n",
              "      <td>NaN</td>\n",
              "      <td>West Plateaus Shrublands</td>\n",
              "    </tr>\n",
              "    <tr>\n",
              "      <th>1</th>\n",
              "      <td>0.04015</td>\n",
              "      <td>2</td>\n",
              "      <td>2000</td>\n",
              "      <td>1 Rio Guenguel</td>\n",
              "      <td>2000_02</td>\n",
              "      <td>0.14080</td>\n",
              "      <td>-0.862369</td>\n",
              "      <td>NaN</td>\n",
              "      <td>NaN</td>\n",
              "      <td>NaN</td>\n",
              "      <td>...</td>\n",
              "      <td>NaN</td>\n",
              "      <td>NaN</td>\n",
              "      <td>NaN</td>\n",
              "      <td>NaN</td>\n",
              "      <td>NaN</td>\n",
              "      <td>NaN</td>\n",
              "      <td>NaN</td>\n",
              "      <td>NaN</td>\n",
              "      <td>NaN</td>\n",
              "      <td>West Plateaus Shrublands</td>\n",
              "    </tr>\n",
              "    <tr>\n",
              "      <th>2</th>\n",
              "      <td>0.03890</td>\n",
              "      <td>3</td>\n",
              "      <td>2000</td>\n",
              "      <td>1 Rio Guenguel</td>\n",
              "      <td>2000_03</td>\n",
              "      <td>0.13175</td>\n",
              "      <td>-0.742418</td>\n",
              "      <td>NaN</td>\n",
              "      <td>NaN</td>\n",
              "      <td>NaN</td>\n",
              "      <td>...</td>\n",
              "      <td>NaN</td>\n",
              "      <td>NaN</td>\n",
              "      <td>NaN</td>\n",
              "      <td>NaN</td>\n",
              "      <td>NaN</td>\n",
              "      <td>NaN</td>\n",
              "      <td>NaN</td>\n",
              "      <td>NaN</td>\n",
              "      <td>NaN</td>\n",
              "      <td>West Plateaus Shrublands</td>\n",
              "    </tr>\n",
              "    <tr>\n",
              "      <th>3</th>\n",
              "      <td>0.04640</td>\n",
              "      <td>4</td>\n",
              "      <td>2000</td>\n",
              "      <td>1 Rio Guenguel</td>\n",
              "      <td>2000_04</td>\n",
              "      <td>0.14920</td>\n",
              "      <td>-0.189822</td>\n",
              "      <td>NaN</td>\n",
              "      <td>NaN</td>\n",
              "      <td>NaN</td>\n",
              "      <td>...</td>\n",
              "      <td>NaN</td>\n",
              "      <td>NaN</td>\n",
              "      <td>NaN</td>\n",
              "      <td>NaN</td>\n",
              "      <td>NaN</td>\n",
              "      <td>NaN</td>\n",
              "      <td>NaN</td>\n",
              "      <td>NaN</td>\n",
              "      <td>NaN</td>\n",
              "      <td>West Plateaus Shrublands</td>\n",
              "    </tr>\n",
              "    <tr>\n",
              "      <th>4</th>\n",
              "      <td>NaN</td>\n",
              "      <td>5</td>\n",
              "      <td>2000</td>\n",
              "      <td>1 Rio Guenguel</td>\n",
              "      <td>2000_05</td>\n",
              "      <td>0.13650</td>\n",
              "      <td>-0.093864</td>\n",
              "      <td>NaN</td>\n",
              "      <td>NaN</td>\n",
              "      <td>NaN</td>\n",
              "      <td>...</td>\n",
              "      <td>NaN</td>\n",
              "      <td>NaN</td>\n",
              "      <td>NaN</td>\n",
              "      <td>NaN</td>\n",
              "      <td>NaN</td>\n",
              "      <td>NaN</td>\n",
              "      <td>NaN</td>\n",
              "      <td>NaN</td>\n",
              "      <td>NaN</td>\n",
              "      <td>West Plateaus Shrublands</td>\n",
              "    </tr>\n",
              "  </tbody>\n",
              "</table>\n",
              "<p>5 rows × 58 columns</p>\n",
              "</div>\n",
              "    <div class=\"colab-df-buttons\">\n",
              "\n",
              "  <div class=\"colab-df-container\">\n",
              "    <button class=\"colab-df-convert\" onclick=\"convertToInteractive('df-79fb6ed1-edb7-4ee4-ad64-17516c72a3dd')\"\n",
              "            title=\"Convert this dataframe to an interactive table.\"\n",
              "            style=\"display:none;\">\n",
              "\n",
              "  <svg xmlns=\"http://www.w3.org/2000/svg\" height=\"24px\" viewBox=\"0 -960 960 960\">\n",
              "    <path d=\"M120-120v-720h720v720H120Zm60-500h600v-160H180v160Zm220 220h160v-160H400v160Zm0 220h160v-160H400v160ZM180-400h160v-160H180v160Zm440 0h160v-160H620v160ZM180-180h160v-160H180v160Zm440 0h160v-160H620v160Z\"/>\n",
              "  </svg>\n",
              "    </button>\n",
              "\n",
              "  <style>\n",
              "    .colab-df-container {\n",
              "      display:flex;\n",
              "      gap: 12px;\n",
              "    }\n",
              "\n",
              "    .colab-df-convert {\n",
              "      background-color: #E8F0FE;\n",
              "      border: none;\n",
              "      border-radius: 50%;\n",
              "      cursor: pointer;\n",
              "      display: none;\n",
              "      fill: #1967D2;\n",
              "      height: 32px;\n",
              "      padding: 0 0 0 0;\n",
              "      width: 32px;\n",
              "    }\n",
              "\n",
              "    .colab-df-convert:hover {\n",
              "      background-color: #E2EBFA;\n",
              "      box-shadow: 0px 1px 2px rgba(60, 64, 67, 0.3), 0px 1px 3px 1px rgba(60, 64, 67, 0.15);\n",
              "      fill: #174EA6;\n",
              "    }\n",
              "\n",
              "    .colab-df-buttons div {\n",
              "      margin-bottom: 4px;\n",
              "    }\n",
              "\n",
              "    [theme=dark] .colab-df-convert {\n",
              "      background-color: #3B4455;\n",
              "      fill: #D2E3FC;\n",
              "    }\n",
              "\n",
              "    [theme=dark] .colab-df-convert:hover {\n",
              "      background-color: #434B5C;\n",
              "      box-shadow: 0px 1px 3px 1px rgba(0, 0, 0, 0.15);\n",
              "      filter: drop-shadow(0px 1px 2px rgba(0, 0, 0, 0.3));\n",
              "      fill: #FFFFFF;\n",
              "    }\n",
              "  </style>\n",
              "\n",
              "    <script>\n",
              "      const buttonEl =\n",
              "        document.querySelector('#df-79fb6ed1-edb7-4ee4-ad64-17516c72a3dd button.colab-df-convert');\n",
              "      buttonEl.style.display =\n",
              "        google.colab.kernel.accessAllowed ? 'block' : 'none';\n",
              "\n",
              "      async function convertToInteractive(key) {\n",
              "        const element = document.querySelector('#df-79fb6ed1-edb7-4ee4-ad64-17516c72a3dd');\n",
              "        const dataTable =\n",
              "          await google.colab.kernel.invokeFunction('convertToInteractive',\n",
              "                                                    [key], {});\n",
              "        if (!dataTable) return;\n",
              "\n",
              "        const docLinkHtml = 'Like what you see? Visit the ' +\n",
              "          '<a target=\"_blank\" href=https://colab.research.google.com/notebooks/data_table.ipynb>data table notebook</a>'\n",
              "          + ' to learn more about interactive tables.';\n",
              "        element.innerHTML = '';\n",
              "        dataTable['output_type'] = 'display_data';\n",
              "        await google.colab.output.renderOutput(dataTable, element);\n",
              "        const docLink = document.createElement('div');\n",
              "        docLink.innerHTML = docLinkHtml;\n",
              "        element.appendChild(docLink);\n",
              "      }\n",
              "    </script>\n",
              "  </div>\n",
              "\n",
              "\n",
              "<div id=\"df-774be86d-6009-4ef4-b495-542bed55a72d\">\n",
              "  <button class=\"colab-df-quickchart\" onclick=\"quickchart('df-774be86d-6009-4ef4-b495-542bed55a72d')\"\n",
              "            title=\"Suggest charts\"\n",
              "            style=\"display:none;\">\n",
              "\n",
              "<svg xmlns=\"http://www.w3.org/2000/svg\" height=\"24px\"viewBox=\"0 0 24 24\"\n",
              "     width=\"24px\">\n",
              "    <g>\n",
              "        <path d=\"M19 3H5c-1.1 0-2 .9-2 2v14c0 1.1.9 2 2 2h14c1.1 0 2-.9 2-2V5c0-1.1-.9-2-2-2zM9 17H7v-7h2v7zm4 0h-2V7h2v10zm4 0h-2v-4h2v4z\"/>\n",
              "    </g>\n",
              "</svg>\n",
              "  </button>\n",
              "\n",
              "<style>\n",
              "  .colab-df-quickchart {\n",
              "      --bg-color: #E8F0FE;\n",
              "      --fill-color: #1967D2;\n",
              "      --hover-bg-color: #E2EBFA;\n",
              "      --hover-fill-color: #174EA6;\n",
              "      --disabled-fill-color: #AAA;\n",
              "      --disabled-bg-color: #DDD;\n",
              "  }\n",
              "\n",
              "  [theme=dark] .colab-df-quickchart {\n",
              "      --bg-color: #3B4455;\n",
              "      --fill-color: #D2E3FC;\n",
              "      --hover-bg-color: #434B5C;\n",
              "      --hover-fill-color: #FFFFFF;\n",
              "      --disabled-bg-color: #3B4455;\n",
              "      --disabled-fill-color: #666;\n",
              "  }\n",
              "\n",
              "  .colab-df-quickchart {\n",
              "    background-color: var(--bg-color);\n",
              "    border: none;\n",
              "    border-radius: 50%;\n",
              "    cursor: pointer;\n",
              "    display: none;\n",
              "    fill: var(--fill-color);\n",
              "    height: 32px;\n",
              "    padding: 0;\n",
              "    width: 32px;\n",
              "  }\n",
              "\n",
              "  .colab-df-quickchart:hover {\n",
              "    background-color: var(--hover-bg-color);\n",
              "    box-shadow: 0 1px 2px rgba(60, 64, 67, 0.3), 0 1px 3px 1px rgba(60, 64, 67, 0.15);\n",
              "    fill: var(--button-hover-fill-color);\n",
              "  }\n",
              "\n",
              "  .colab-df-quickchart-complete:disabled,\n",
              "  .colab-df-quickchart-complete:disabled:hover {\n",
              "    background-color: var(--disabled-bg-color);\n",
              "    fill: var(--disabled-fill-color);\n",
              "    box-shadow: none;\n",
              "  }\n",
              "\n",
              "  .colab-df-spinner {\n",
              "    border: 2px solid var(--fill-color);\n",
              "    border-color: transparent;\n",
              "    border-bottom-color: var(--fill-color);\n",
              "    animation:\n",
              "      spin 1s steps(1) infinite;\n",
              "  }\n",
              "\n",
              "  @keyframes spin {\n",
              "    0% {\n",
              "      border-color: transparent;\n",
              "      border-bottom-color: var(--fill-color);\n",
              "      border-left-color: var(--fill-color);\n",
              "    }\n",
              "    20% {\n",
              "      border-color: transparent;\n",
              "      border-left-color: var(--fill-color);\n",
              "      border-top-color: var(--fill-color);\n",
              "    }\n",
              "    30% {\n",
              "      border-color: transparent;\n",
              "      border-left-color: var(--fill-color);\n",
              "      border-top-color: var(--fill-color);\n",
              "      border-right-color: var(--fill-color);\n",
              "    }\n",
              "    40% {\n",
              "      border-color: transparent;\n",
              "      border-right-color: var(--fill-color);\n",
              "      border-top-color: var(--fill-color);\n",
              "    }\n",
              "    60% {\n",
              "      border-color: transparent;\n",
              "      border-right-color: var(--fill-color);\n",
              "    }\n",
              "    80% {\n",
              "      border-color: transparent;\n",
              "      border-right-color: var(--fill-color);\n",
              "      border-bottom-color: var(--fill-color);\n",
              "    }\n",
              "    90% {\n",
              "      border-color: transparent;\n",
              "      border-bottom-color: var(--fill-color);\n",
              "    }\n",
              "  }\n",
              "</style>\n",
              "\n",
              "  <script>\n",
              "    async function quickchart(key) {\n",
              "      const quickchartButtonEl =\n",
              "        document.querySelector('#' + key + ' button');\n",
              "      quickchartButtonEl.disabled = true;  // To prevent multiple clicks.\n",
              "      quickchartButtonEl.classList.add('colab-df-spinner');\n",
              "      try {\n",
              "        const charts = await google.colab.kernel.invokeFunction(\n",
              "            'suggestCharts', [key], {});\n",
              "      } catch (error) {\n",
              "        console.error('Error during call to suggestCharts:', error);\n",
              "      }\n",
              "      quickchartButtonEl.classList.remove('colab-df-spinner');\n",
              "      quickchartButtonEl.classList.add('colab-df-quickchart-complete');\n",
              "    }\n",
              "    (() => {\n",
              "      let quickchartButtonEl =\n",
              "        document.querySelector('#df-774be86d-6009-4ef4-b495-542bed55a72d button');\n",
              "      quickchartButtonEl.style.display =\n",
              "        google.colab.kernel.accessAllowed ? 'block' : 'none';\n",
              "    })();\n",
              "  </script>\n",
              "</div>\n",
              "\n",
              "    </div>\n",
              "  </div>\n"
            ],
            "application/vnd.google.colaboratory.intrinsic+json": {
              "type": "dataframe",
              "variable_name": "all_data"
            }
          },
          "metadata": {},
          "execution_count": 15
        }
      ]
    },
    {
      "cell_type": "markdown",
      "source": [
        "## Reorder"
      ],
      "metadata": {
        "id": "3xPgphKdhhIj"
      }
    },
    {
      "cell_type": "code",
      "source": [
        "# Define the desired order for specific columns\n",
        "desired_order = ['Site_Name', 'year_month', 'year', 'month', 'NDVI_Landsat', 'NDVI_MODIS', 'SPEI', \"Biozone\"]\n",
        "\n",
        "# Get the list of other columns that are not in the desired order\n",
        "other_columns = [col for col in all_data.columns if col not in desired_order]\n",
        "\n",
        "# Reorganize the DataFrame\n",
        "all_data = all_data[desired_order + other_columns]\n",
        "\n",
        "# Convert the 'year' column to integers\n",
        "all_data[\"year\"] = all_data[\"year\"].astype(int)\n",
        "\n",
        "# Convert the 'year' column to integers\n",
        "all_data[\"month\"] = all_data[\"month\"].astype(int)\n"
      ],
      "metadata": {
        "id": "VOlXoS3bhidx"
      },
      "execution_count": null,
      "outputs": []
    },
    {
      "cell_type": "markdown",
      "source": [
        "# Save as csv"
      ],
      "metadata": {
        "id": "za1j7Q6Ihh-h"
      }
    },
    {
      "cell_type": "markdown",
      "source": [
        "Uncheck .to_csv line in order to actually save the csv"
      ],
      "metadata": {
        "id": "2CKavQg6fvGf"
      }
    },
    {
      "cell_type": "code",
      "source": [
        "print(all_data.head())\n",
        "\n",
        "# Get the current date and time\n",
        "current_time = datetime.now()\n",
        "\n",
        "# Format the date and time\n",
        "formatted_time = current_time.strftime(\"%Y%m%d_%H%M\")\n",
        "\n",
        "# Construct the filename\n",
        "filename = f'Merged_Data_{formatted_time}.csv'\n",
        "\n",
        "# Save the DataFrame as a CSV file\n",
        "# all_data.to_csv(filename, index=False)\n",
        "\n",
        "print(f\"Data saved as: {filename}\")"
      ],
      "metadata": {
        "colab": {
          "base_uri": "https://localhost:8080/"
        },
        "id": "8409gLNnkpH4",
        "outputId": "b0c4e067-09c9-4f0a-d3ef-449ed0a2b03c"
      },
      "execution_count": null,
      "outputs": [
        {
          "output_type": "stream",
          "name": "stdout",
          "text": [
            "        Site_Name year_month  year  month  NDVI_Landsat  NDVI_MODIS      SPEI  \\\n",
            "0  1 Rio Guenguel    2000_01  2000      1       0.04255         NaN -1.202183   \n",
            "1  1 Rio Guenguel    2000_02  2000      2       0.04015     0.14080 -0.862369   \n",
            "2  1 Rio Guenguel    2000_03  2000      3       0.03890     0.13175 -0.742418   \n",
            "3  1 Rio Guenguel    2000_04  2000      4       0.04640     0.14920 -0.189822   \n",
            "4  1 Rio Guenguel    2000_05  2000      5           NaN     0.13650 -0.093864   \n",
            "\n",
            "                    Biozone Country Province  ... Patch_Silt  Patch_Sand  \\\n",
            "0  West Plateaus Shrublands     NaN      NaN  ...        NaN         NaN   \n",
            "1  West Plateaus Shrublands     NaN      NaN  ...        NaN         NaN   \n",
            "2  West Plateaus Shrublands     NaN      NaN  ...        NaN         NaN   \n",
            "3  West Plateaus Shrublands     NaN      NaN  ...        NaN         NaN   \n",
            "4  West Plateaus Shrublands     NaN      NaN  ...        NaN         NaN   \n",
            "\n",
            "   InterP_Con InterP_pH  InterP_OC InterP_N  InterP_OM InterP_Clay  \\\n",
            "0         NaN        NaN       NaN      NaN        NaN         NaN   \n",
            "1         NaN        NaN       NaN      NaN        NaN         NaN   \n",
            "2         NaN        NaN       NaN      NaN        NaN         NaN   \n",
            "3         NaN        NaN       NaN      NaN        NaN         NaN   \n",
            "4         NaN        NaN       NaN      NaN        NaN         NaN   \n",
            "\n",
            "  InterP_Silt InterP_Sand  \n",
            "0         NaN         NaN  \n",
            "1         NaN         NaN  \n",
            "2         NaN         NaN  \n",
            "3         NaN         NaN  \n",
            "4         NaN         NaN  \n",
            "\n",
            "[5 rows x 58 columns]\n",
            "Data saved as: Merged_Data_20250107_2047.csv\n"
          ]
        }
      ]
    }
  ]
}